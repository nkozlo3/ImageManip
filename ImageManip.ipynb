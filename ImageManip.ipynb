{
 "cells": [
  {
   "cell_type": "code",
   "execution_count": 6,
   "metadata": {},
   "outputs": [],
   "source": [
    "# import Image from PIL\n",
    "from PIL import Image \n",
    "# retrieving base image\n",
    "image = Image.open('wrestling.jpg')\n",
    "# getting the size of the image \n",
    "width, height = image.size\n",
    "\n",
    "# looping through the image\n",
    "for x in range(width):\n",
    "    for y in range(height):\n",
    "        # distance of rgb values of image[x,y] from (255,165,0)\n",
    "        r, g, b = image.getpixel((x, y))\n",
    "        distFromOrange = ((r - 255)**2 + (g - 165)**2 + (b - 0)**2)**0.5\n",
    "        # distance of rgb values of image[x,y] from (0,0,255)\n",
    "        distFromBlue = ((r - 0)**2 + (g - 0)**2 + (b - 255)**2)**0.5\n",
    "        # if the pixel's value is closer to orange than blue\n",
    "        if distFromOrange < distFromBlue:\n",
    "            # set the pixel to orange\n",
    "            image.putpixel((x, y), (255, 165, 0))\n",
    "        # else if the pixel's value is closer to blue than orange or they are equal\n",
    "        else:\n",
    "            # set the pixel to blue\n",
    "            image.putpixel((x, y), (0, 0, 255))\n",
    "\n",
    "\n"
   ]
  },
  {
   "cell_type": "code",
   "execution_count": 11,
   "metadata": {},
   "outputs": [],
   "source": [
    "# getting the pixel distances from different shades of orange and blue\n",
    "# returns the smallest distance\n",
    "# orange values: tomato = (255, 99, 71), orange = (255, 165, 0), coral = (255,127,80), orangered = (255, 69, 0), orangeyellow = (255, 165, 0), darkorange = (255, 140, 0)\n",
    "# blue values: blue = (0, 0, 255), indigo = (75, 0, 130), navy = (0, 0, 128), royalblue = (65, 105, 225), cornflowerblue = (100, 149, 237), mediumblue = (0, 0, 205), darkblue = (0, 0, 139), skyblue = (135, 206, 235), lightskyblue = (135, 206, 250), deepskyblue = (0, 191, 255), dodgerblue = (30, 144, 255), steelblue = (70, 130, 180), darkcyan = (0, 139, 139), teal = (0, 128, 128), lightseagreen = (32, 178, 170), darkturquoise = (0, 206, 209), mediumturquoise = (72, 209, 204), turquoise = (64, 224, 208), cyan = (0, 255, 255)\n",
    "def getDistance(r, g, b):\n",
    "    # best distance is the smallest distance\n",
    "    # setting best distance\n",
    "    bestDistance = 1000000\n",
    "    # setting colorvalue we will change pixel to \n",
    "    colorValue = (0, 0, 0)\n",
    "    # looping through the orange values and checking distance of each then setting best distance if it is smaller\n",
    "    for orange in [(255, 99, 71), (255, 165, 0), (255,127,80), (255, 69, 0), (255, 165, 0), (255, 140, 0)]:\n",
    "        # distance of rgb values of image[x,y] from orange\n",
    "        dist = ((r - orange[0])**2 + (g - orange[1])**2 + (b - orange[2])**2)**0.5\n",
    "        # if the distance is smaller than the best distance\n",
    "        if dist < bestDistance:\n",
    "            # set the best distance to the distance\n",
    "            bestDistance = dist\n",
    "            # set the colorvalue to the orange\n",
    "            colorValue = orange\n",
    "    # looping through the blue values and checking distance of each then setting best distance if it is smaller\n",
    "    for blue in [(0, 0, 255), (75, 0, 130), (0, 0, 128), (65, 105, 225), (100, 149, 237), (0, 0, 205), (0, 0, 139), (135, 206, 235), (135, 206, 250), (0, 191, 255), (30, 144, 255), (70, 130, 180), (0, 139, 139), (0, 128, 128), (32, 178, 170), (0, 206, 209), (72, 209, 204), (64, 224, 208), (0, 255, 255), (0, 255, 255)]:\n",
    "        # distance of rgb values of image[x,y] from blue\n",
    "        dist = ((r - blue[0])**2 + (g - blue[1])**2 + (b - blue[2])**2)**0.5\n",
    "        # if the distance is smaller than the best distance\n",
    "        if dist < bestDistance:\n",
    "            # set the best distance to the distance\n",
    "            bestDistance = dist\n",
    "            # set the colorvalue to the blue\n",
    "            colorValue = blue\n",
    "    # return the best colorValue\n",
    "    return colorValue"
   ]
  },
  {
   "cell_type": "code",
   "execution_count": 9,
   "metadata": {},
   "outputs": [],
   "source": [
    "# function to illinify an image\n",
    "def illinify(imageName):\n",
    "    # retrieving base image\n",
    "    image = Image.open(imageName)\n",
    "    # getting the size of the image \n",
    "    width, height = image.size\n",
    "    # looping through the image\n",
    "    for x in range(width):\n",
    "        for y in range(height):\n",
    "            # distance of rgb values of image[x,y] from (255,165,0)\n",
    "            r, g, b = image.getpixel((x, y))\n",
    "            # getting the best colorvalue\n",
    "            colorValue = getDistance(r, g, b)\n",
    "            # setting the pixel to the best colorvalue\n",
    "            image.putpixel((x, y), colorValue)\n",
    "    # saving the image\n",
    "    image.save('wrestling_illinified.jpg')\n",
    "    \n",
    "illinify(\"wrestling.jpg\")"
   ]
  },
  {
   "cell_type": "code",
   "execution_count": null,
   "metadata": {},
   "outputs": [],
   "source": []
  }
 ],
 "metadata": {
  "interpreter": {
   "hash": "8d72fa983bf560a8a6f3e37abe22257d29af655ae335547f87d10d1e6dc361a7"
  },
  "kernelspec": {
   "display_name": "Python 3.10.3 64-bit",
   "language": "python",
   "name": "python3"
  },
  "language_info": {
   "codemirror_mode": {
    "name": "ipython",
    "version": 3
   },
   "file_extension": ".py",
   "mimetype": "text/x-python",
   "name": "python",
   "nbconvert_exporter": "python",
   "pygments_lexer": "ipython3",
   "version": "3.10.3"
  },
  "orig_nbformat": 4
 },
 "nbformat": 4,
 "nbformat_minor": 2
}
