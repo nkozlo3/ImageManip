{
 "cells": [
  {
   "cell_type": "code",
   "execution_count": 2,
   "metadata": {},
   "outputs": [],
   "source": [
    "import urllib.request\n",
    "import sys\n",
    "from PIL import ImageEnhance, ImageFilter, Image, ImageOps\n",
    "import cv2\n",
    "import os\n",
    "import random "
   ]
  },
  {
   "cell_type": "code",
   "execution_count": 3,
   "metadata": {},
   "outputs": [],
   "source": [
    "# changing the working directory to the directory our project is in\n",
    "projectDirectory = '\\\\Users\\\\Neil Kozlowski\\\\Projects\\\\ImageManipulation\\\\ImageManip'\n",
    "# print the current working directory\n",
    "os.chdir(projectDirectory)"
   ]
  },
  {
   "cell_type": "code",
   "execution_count": 4,
   "metadata": {},
   "outputs": [],
   "source": [
    "# retrieving base image\n",
    "image = Image.open('wrestling.jpg')\n",
    "# getting the size of the image\n",
    "width, height = image.size\n",
    "\n",
    "# looping through the image\n",
    "for x in range(width):\n",
    "    for y in range(height):\n",
    "        # distance of rgb values of image[x,y] from (255,165,0)\n",
    "        r, g, b = image.getpixel((x, y))\n",
    "        distFromOrange = ((r - 255)**2 + (g - 165)**2 + (b - 0)**2)**0.5\n",
    "        # distance of rgb values of image[x,y] from (0,0,255)\n",
    "        distFromBlue = ((r - 0)**2 + (g - 0)**2 + (b - 255)**2)**0.5\n",
    "        # if the pixel's value is closer to orange than blue\n",
    "        if distFromOrange < distFromBlue:\n",
    "            # set the pixel to orange\n",
    "            image.putpixel((x, y), (255, 165, 0))\n",
    "        # else if the pixel's value is closer to blue than orange or they are equal\n",
    "        else:\n",
    "            # set the pixel to blue\n",
    "            image.putpixel((x, y), (0, 0, 255))"
   ]
  },
  {
   "cell_type": "code",
   "execution_count": 5,
   "metadata": {},
   "outputs": [],
   "source": [
    "# orange values: tomato = (255, 99, 71), orange = (255, 165, 0), coral = (255,127,80), orangered = (255, 69, 0), orangeyellow = (255, 165, 0), darkorange = (255, 140, 0)\n",
    "#\n",
    "# blue values: blue = (0, 0, 255), indigo = (75, 0, 130), navy = (0, 0, 128), royalblue = (65, 105, 225), cornflowerblue = (100, 149, 237), mediumblue = (0, 0, 205), \n",
    "#              darkblue = (0, 0, 139), skyblue = (135, 206, 235), lightskyblue = (135, 206, 250), deepskyblue = (0, 191, 255), dodgerblue = (30, 144, 255), steelblue = (70, 130, 180),\n",
    "#              darkcyan = (0, 139, 139), teal = (0, 128, 128), lightseagreen = (32, 178, 170), darkturquoise = (0, 206, 209), mediumturquoise = (72, 209, 204), turquoise = (64, 224, 208), cyan = (0, 255, 255)\n",
    "\n",
    "# getting the pixel distances from different shades of orange and blue\n",
    "# returns the smallest distance\n",
    "def getDistance(r, g, b):\n",
    "    # best distance is the smallest distance\n",
    "    # setting best distance\n",
    "    bestDistance = 1000000\n",
    "    # setting colorvalue we will change pixel to \n",
    "    colorValue = (0, 0, 0)\n",
    "    # looping through the orange values and checking distance of each then setting best distance if it is smaller\n",
    "    for orange in [(255, 99, 71), (255, 165, 0), (255,127,80), (255, 69, 0), (255, 165, 0), (255, 140, 0)]:\n",
    "        # distance of rgb values of image[x,y] from orange\n",
    "        dist = ((r - orange[0])**2 + (g - orange[1])**2 + (b - orange[2])**2)**0.5\n",
    "        # if the distance is smaller than the best distance\n",
    "        if dist < bestDistance:\n",
    "            # set the best distance to the distance\n",
    "            bestDistance = dist\n",
    "            # set the colorvalue to the orange\n",
    "            colorValue = orange\n",
    "    # looping through the blue values and checking distance of each then setting best distance if it is smaller\n",
    "    for blue in [(0, 0, 255), (75, 0, 130), (0, 0, 128), (65, 105, 225), (100, 149, 237), (0, 0, 205), (0, 0, 139), \n",
    "                 (135, 206, 235), (135, 206, 250), (0, 191, 255), (30, 144, 255), (70, 130, 180), (0, 139, 139), \n",
    "                 (0, 128, 128), (32, 178, 170), (0, 206, 209), (72, 209, 204), (64, 224, 208), (0, 255, 255), (0, 255, 255)]:\n",
    "        # distance of rgb values of image[x,y] from blue\n",
    "        dist = ((r - blue[0])**2 + (g - blue[1])**2 + (b - blue[2])**2)**0.5\n",
    "        # if the distance is smaller than the best distance\n",
    "        if dist < bestDistance:\n",
    "            # set the best distance to the distance\n",
    "            bestDistance = dist\n",
    "            # set the colorvalue to the blue\n",
    "            colorValue = blue\n",
    "    # return the best colorValue\n",
    "    return colorValue"
   ]
  },
  {
   "cell_type": "code",
   "execution_count": 6,
   "metadata": {},
   "outputs": [],
   "source": [
    "def InsertOnlineImage(imageURL, imageName):\n",
    " \"\"\"\n",
    " this function downloads an image from the URL you provide and saves it as imageName \n",
    " Then returns the name of your new file\n",
    " \"\"\"\n",
    " # adding headers to our request specifically 'user-agent' to avoid websites denying our request to pull images\n",
    " webRequest = urllib.request.build_opener()\n",
    " webRequest.addheaders = [(\"user-agent\", \"mosaic-project\")]\n",
    " urllib.request.install_opener(webRequest)\n",
    "\n",
    " # retrieves the image from imageURL and stores it as imageName\n",
    " urllib.request.urlretrieve(imageURL, imageName)\n",
    " \n",
    " #prints name of new imageFile\n",
    " sys.stdout.write(imageName)\n",
    " \n",
    " # returns the name of your new image\n",
    " return imageName"
   ]
  },
  {
   "cell_type": "code",
   "execution_count": 7,
   "metadata": {},
   "outputs": [
    {
     "data": {
      "text/plain": [
       "'illinified_wrestling.jpg'"
      ]
     },
     "execution_count": 7,
     "metadata": {},
     "output_type": "execute_result"
    }
   ],
   "source": [
    "# function to illinify an image\n",
    "def illinify(imageName, directory=os.getcwd()):\n",
    "    \"\"\"\n",
    "    this function takes an image and illinifies it\n",
    "    imageName is the name of the image you want to illinify\n",
    "    directory is the directory you want to save the image in\n",
    "    \"\"\"\n",
    "    # getting the image\n",
    "    image = Image.open(imageName)\n",
    "    # getting the size of the image \n",
    "    width, height = image.size\n",
    "    # looping through the image\n",
    "    for x in range(width):\n",
    "        for y in range(height):\n",
    "            # distance of rgb values of image[x,y] from (255,165,0)\n",
    "            r, g, b = image.getpixel((x, y))\n",
    "            # getting the best colorvalue\n",
    "            colorValue = getDistance(r, g, b)\n",
    "            # setting the pixel to the best colorvalue\n",
    "            image.putpixel((x, y), colorValue)\n",
    "    # saving the image in the directory you provide\n",
    "    image.save(f\"{directory}/illinified_{imageName}\")\n",
    "    # return name of the new image\n",
    "    return \"illinified_\" + imageName\n",
    "illinify(\"wrestling.jpg\", os.getcwd() + \"/TempImages\")"
   ]
  },
  {
   "cell_type": "code",
   "execution_count": 8,
   "metadata": {},
   "outputs": [],
   "source": [
    "# different kelvin rgb values: 1000 = (255,56,0), 1500 = (255,109,0), 2000 = (255,137,18), 2500 = (255,161,72), 3000 = (255,180,107), 3500 = (255,196,137), \n",
    "#                              4000 = (255,209,163), 4500 = (255,219,186), 5000 = (255,228,206), 5500 = (255,236,224), 6000 = (255,243,239), 6500 = (255,249,253), 7000 = (245,243,255), \n",
    "#                              7500 = (235,238,255), 8000 = (227,233,255), 8500 = (220,229,255), 9000 = (214,225,255), 9500 = (208,222,255), \n",
    "#                              10000 = (204,219,255), 10500 = (200,216,255), 11000 = (197,214,255), 11500 = (195,211,255), 12000 = (193,209,255), \n",
    "#                              12500 = (191,207,255), 13000 = (190,205,255), 13500 = (188,203,255), 14000 = (187,201,255), 14500 = (186,199,255), \n",
    "#                              15000 = (185,197,255), 15500 = (184,196,255), 16000 = (183,194,255), 16500 = (182,192,255), 17000 = (181,191,255), \n",
    "#                              17500 = (180,189,255), 18000 = (179,188,255), 18500 = (178,186,255), 19000 = (177,184,255), 19500 = (176,183,255), \n",
    "#                              20000 = (175,181,255), 20500 = (174,180,255), 21000 = (173,178,255), 21500 = (172,177,255), 22000 = (171,175,255), \n",
    "#                              22500 = (170,174,255), 23000 = (169,172,255), 23500 = (168,171,255), 24000 = (167,169,255), 24500 = (166,168,255), \n",
    "#                              25000 = (165,166,255), 25500 = (164,165,255), 26000 = (163,163,255), 26500 = (162,162,255), 27000 = (161,161,255), \n",
    "#                              27500 = (160,160,255), 28000 = (159,159,255), 28500 = (158,158,255), 29000 = (157,157,255), 29500 = (156,156,255), \n",
    "#                              30000 = (155,155,255), 30500 = (154,154,255), 31000 = (153,153,255), 31500 = (152,152,255), 32000 = (151,151,255), \n",
    "#                              32500 = (150,150,255), 33000 = (149,149,255), 33500 = (148,148,255), 34000 = (147,147,255), 34500 = (146,146,255), 35000 = (145,145,255),\n",
    "\n",
    "# table of kelvin values at corresponding temperatures\n",
    "kelvinRGBs = {1000: (255, 56, 0), 1500: (255, 109, 0), 2000: (255, 137, 18), 2500: (255, 161, 72), 3000: (255, 180, 107), 3500: (255, 196, 137), 4000: (255, 209, 163),\n",
    "              4500: (255, 219, 186), 5000: (255, 228, 206), 5500: (255, 236, 224), 6000: (255, 243, 239), 6500: (255, 249, 253), 7000: (245, 243, 255),\n",
    "              7500: (235, 238, 255), 8000: (227, 233, 255), 8500: (220, 229, 255), 9000: (214, 225, 255), 9500: (208, 222, 255), 10000: (204, 219, 255), \n",
    "              10500: (200, 216, 255), 11000: (197, 214, 255), 11500: (195, 211, 255), 12000: (193, 209, 255), 12500: (191, 207, 255), 13000: (190, 205, 255), \n",
    "              13500: (188, 203, 255), 14000: (187, 201, 255), 14500: (186, 199, 255), 15000: (185, 197, 255), 15500: (184, 196, 255), 16000: (183, 194, 255), \n",
    "              16500: (182, 192, 255), 17000: (181, 191, 255), 17500: (180, 189, 255), 18000: (179, 188, 255), 18500: (178, 186, 255), 19000: (177, 184, 255), \n",
    "              19500: (176, 183, 255), 20000: (175, 181, 255), 20500: (174, 180, 255), 21000: (173, 178, 255), 21500: (172, 177, 255), 22000: (171, 175, 255), \n",
    "              22500: (170, 174, 255), 23000: (169, 172, 255), 23500: (168, 171, 255), 24000: (167, 169, 255), 24500: (166, 168, 255), 25000: (165, 166, 255), \n",
    "              25500: (164, 165, 255), 26000: (163, 163, 255), 26500: (162, 162, 255), 27000: (161, 161, 255), 27500: (160, 160, 255), 28000: (159, 159, 255), \n",
    "              28500: (158, 158, 255), 29000: (157, 157, 255), 29500: (156, 156, 255), 30000: (155, 155, 255), 30500: (154, 154, 255), 31000: (153, 153, 255), \n",
    "              31500: (152, 152, 255), 32000: (151, 151, 255), 32500: (150, 150, 255), 33000: (149, 149, 255), 33500: (148, 148, 255), 34000: (147, 147, 255), \n",
    "              34500: (146, 146, 255), 35000: (145, 145, 255)}\n",
    "\n",
    "# function to warm up or cool down an image\n",
    "def changeTempImage(imageName, temperature, directory=os.getcwd()):\n",
    "    \"\"\" changes the temperature of an image \n",
    "    imageName: name of the image to be changed\n",
    "    temperature: temperature to change the image to (temperature = 1000 + x * 500)\n",
    "    directory: directory to save the image in\"\"\"\n",
    "    # open the image\n",
    "    image = Image.open(imageName)\n",
    "    # setting r b and g to the kelvin rgb values at the temperature\n",
    "    r, g, b = kelvinRGBs[temperature]\n",
    "    # matrix that divides rbg values by the temperature\n",
    "    matrix = ( r / 255.0, 0.0, 0.0, 0.0,\n",
    "               0.0, g / 255.0, 0.0, 0.0,\n",
    "               0.0, 0.0, b / 255.0, 0.0 )\n",
    "\n",
    "    # convert the image to a warmer color based on the matrix\n",
    "    newImage = image.convert(\"RGB\", matrix)\n",
    "    # save the new image in the directory\n",
    "    newImage.save(f\"{directory}/tempChanged_{imageName}\")\n",
    "    # return name of the new image\n",
    "    return \"tempChanged_\" + imageName"
   ]
  },
  {
   "cell_type": "code",
   "execution_count": 9,
   "metadata": {},
   "outputs": [],
   "source": [
    "# this cell will contain a function to change the contrast of an image\n",
    "def changeContrast(imageName, contrast, directory=os.getcwd()):\n",
    "    \"\"\"this function will change the contrast of an image\n",
    "    imageName: the name of the image\n",
    "    contrast: the amount of contrast to change the image by, an integer\n",
    "    directory: the directory to save the image in\"\"\"\n",
    "    # open the image\n",
    "    image = Image.open(imageName)\n",
    "    # matrix that multiplies the contrast value\n",
    "    image = ImageEnhance.Contrast(image).enhance(contrast)\n",
    "    # save the new image in the directory\n",
    "    image.save(f\"{directory}/contrastChanged_{imageName}\")\n",
    "    # return name of the new image\n",
    "    return \"contrastChanged_\" + imageName"
   ]
  },
  {
   "cell_type": "code",
   "execution_count": 10,
   "metadata": {},
   "outputs": [],
   "source": [
    "# this cell will contain a function to rotate an image by a given angle\n",
    "def rotateImage(imageName, angle, directory=os.getcwd()):\n",
    "    \"\"\"this function will rotate an image by a given angle\n",
    "    imageName: the name of the image\n",
    "    angle: the angle to rotate the image by\n",
    "    directory: the directory to save the image in\"\"\"\n",
    "    # open the image\n",
    "    image = Image.open(imageName)\n",
    "    # rotating the image by the angle\n",
    "    image = image.rotate(angle)\n",
    "    # save the new image in the directory\n",
    "    image.save(f\"{directory}/rotated_{imageName}\")\n",
    "    # return name of the new image\n",
    "    return \"rotated_\" + imageName"
   ]
  },
  {
   "cell_type": "code",
   "execution_count": 11,
   "metadata": {},
   "outputs": [],
   "source": [
    "# function to convert an image to grayscale\n",
    "def convertToGrayscale(imageName, directory=os.getcwd()):\n",
    "    \"\"\"this function will convert an image to grayscale\n",
    "    imageName: the name of the image\"\"\"\n",
    "    # getting base image\n",
    "    image = Image.open(imageName)\n",
    "    # converting the image to grayscale\n",
    "    image = image.convert(\"L\")\n",
    "    # save the new image in the directory\n",
    "    image.save(f\"{directory}/grayscale_{imageName}\")\n",
    "    ## return name of the new image\n",
    "    return \"grayscale_\" + imageName"
   ]
  },
  {
   "cell_type": "code",
   "execution_count": 12,
   "metadata": {},
   "outputs": [],
   "source": [
    "# function to invert an image\n",
    "def invertImage(imageName, directory=os.getcwd()):\n",
    "    \"\"\"this function will invert an image\n",
    "    imageName: the name of the image\n",
    "    directory: the directory to save the image in\"\"\"\n",
    "    # getting base image\n",
    "    image = Image.open(imageName)\n",
    "    # inverting the image\n",
    "    image = ImageOps.invert(image)\n",
    "    # save the new image in the directory\n",
    "    image.save(f\"{directory}/inverted_{imageName}\")\n",
    "    # return name of the new image\n",
    "    return \"inverted_\" + imageName"
   ]
  },
  {
   "cell_type": "code",
   "execution_count": 13,
   "metadata": {},
   "outputs": [],
   "source": [
    "# function to blur an image \n",
    "def blurImage(imageName, radius, directory=os.getcwd()):\n",
    "    \"\"\"this function will blur an image\n",
    "    imageName: the name of the image\n",
    "    radius: the strength of the blur\n",
    "    directory: the directory to save the image in\"\"\"\n",
    "    # getting base image\n",
    "    image = Image.open(imageName)\n",
    "    # blurring the image with gausian blur\n",
    "    image = image.filter(ImageFilter.GaussianBlur(radius=radius))\n",
    "    # save the new image in the directory\n",
    "    image.save(f\"{directory}/blurred_{imageName}\")\n",
    "    # return name of the new image\n",
    "    return \"blurred_\" + imageName"
   ]
  },
  {
   "cell_type": "code",
   "execution_count": 14,
   "metadata": {},
   "outputs": [
    {
     "data": {
      "text/plain": [
       "'mirrored_alma.jpg'"
      ]
     },
     "execution_count": 14,
     "metadata": {},
     "output_type": "execute_result"
    }
   ],
   "source": [
    "# function to make an image look like it is being viewed in a mirror\n",
    "def mirrorImage(imageName, directory=os.getcwd()):\n",
    "    \"\"\"this function will mirror an image\n",
    "    imageName: the name of the image\n",
    "    directory: the directory to save the image in\"\"\"\n",
    "    # getting base image\n",
    "    image = Image.open(imageName)\n",
    "    # mirroring the image\n",
    "    image = ImageOps.mirror(image)\n",
    "    # save the new image in the directory\n",
    "    image.save(f\"{directory}/mirrored_{imageName}\")\n",
    "    # return name of the new image\n",
    "    return \"mirrored_\" + imageName\n",
    "mirrorImage(\"alma.jpg\")"
   ]
  },
  {
   "cell_type": "code",
   "execution_count": 15,
   "metadata": {},
   "outputs": [],
   "source": [
    "\n",
    "# function to make an image look like a drawing\n",
    "def drawImage(imageName, radius, scale=256.0, directory=os.getcwd()):\n",
    "    \"\"\"this function will make an image look like a drawing\n",
    "    imageName: the name of the image\n",
    "    radius: the radius of the blur must ne an odd integer\n",
    "    scale: the scale of the image\n",
    "    directory: the directory to save the image in\"\"\"\n",
    "    # retrieving base image using cv2\n",
    "    image = cv2.imread(imageName) \n",
    "    # converting the image to grayscale using cv2\n",
    "    greyImage = cv2.cvtColor(image, cv2.COLOR_BGR2GRAY)\n",
    "    # inverting the image using cv2\n",
    "    invertImage = cv2.bitwise_not(greyImage)\n",
    "    # blurring the image so it looks like a drawing using cv2\n",
    "    blurImage = cv2.GaussianBlur(invertImage, (radius, radius), 0)\n",
    "    # inverting the blurred image using cv2\n",
    "    invertedBlurImage = cv2.bitwise_not(blurImage)\n",
    "    # dividing the blurred image by inverted blurred image to make it look like a drawing using cv2\n",
    "    sketchImage = cv2.divide(greyImage, invertedBlurImage, scale=scale)\n",
    "    # saving the new image in the directory using cv2\n",
    "    cv2.imwrite(f\"{directory}/drawing_{imageName}\", sketchImage)"
   ]
  },
  {
   "cell_type": "code",
   "execution_count": 16,
   "metadata": {},
   "outputs": [],
   "source": [
    "drawImage(\"alma.jpg\", 21, directory=os.getcwd() + \"/TempImages\")"
   ]
  },
  {
   "cell_type": "code",
   "execution_count": 21,
   "metadata": {},
   "outputs": [
    {
     "data": {
      "text/plain": [
       "'mirrored_blurred_rotated_contrastChanged_tempChanged_wrestling.jpg'"
      ]
     },
     "execution_count": 21,
     "metadata": {},
     "output_type": "execute_result"
    }
   ],
   "source": [
    "os.chdir(projectDirectory)\n",
    "# combining some of the above functions to make an image look trippy\n",
    "def trippyImage(imageName, contrast=random.randrange(0,16), angle=random.randrange(0,361), blur=random.randrange(0,11), temperature=2500, directory=os.getcwd()):\n",
    "    \"\"\"this function will make an image look trippy\n",
    "    imageName: the name of the image\n",
    "    temperature: the temperature to change the image to\n",
    "    contrast: the contrast to change the image to\n",
    "    angle: the angle to rotate the image by\n",
    "    blur: the radius of the blur to blur the image\n",
    "    scale: the scale of the image\n",
    "    directory: the directory to save the image in\"\"\"\n",
    "    # ensure in project directory\n",
    "    os.chdir(projectDirectory)\n",
    "    # retrieving base image \n",
    "    image = Image.open(imageName)\n",
    "    # converting the image to BGR\n",
    "    b, g, r = image.split()\n",
    "    image = Image.merge(\"RGB\", (r, g, b))\n",
    "    # if directory is not set to os.getcwd()\n",
    "    if directory != os.getcwd():\n",
    "        # change directory to the directory set\n",
    "        os.chdir(directory)\n",
    "\n",
    "    # changing the temperature of the image\n",
    "    image = changeTempImage(imageName, temperature, directory=directory)\n",
    "    # changing the contrast of the image\n",
    "    image = changeContrast(image, contrast, directory=directory)\n",
    "    # rotating the image slightly\n",
    "    image = rotateImage(image, angle, directory=directory)\n",
    "    # blur the image slightly\n",
    "    image = blurImage(image, blur, directory=directory)\n",
    "    # mirror the image\n",
    "    image = mirrorImage(image, directory=directory)\n",
    "    # show the image \n",
    "    return image\n",
    "\n",
    "trippyImage(\"wrestling.jpg\", directory=os.getcwd() + \"/TempImages\")"
   ]
  },
  {
   "cell_type": "code",
   "execution_count": null,
   "metadata": {},
   "outputs": [],
   "source": []
  }
 ],
 "metadata": {
  "interpreter": {
   "hash": "59916f898fdba4a57da4bed518b7fefab906d655fa65366da59694616aa68ce5"
  },
  "kernelspec": {
   "display_name": "Python 3.10.3 64-bit",
   "language": "python",
   "name": "python3"
  },
  "language_info": {
   "codemirror_mode": {
    "name": "ipython",
    "version": 3
   },
   "file_extension": ".py",
   "mimetype": "text/x-python",
   "name": "python",
   "nbconvert_exporter": "python",
   "pygments_lexer": "ipython3",
   "version": "3.10.3"
  },
  "orig_nbformat": 4
 },
 "nbformat": 4,
 "nbformat_minor": 2
}
